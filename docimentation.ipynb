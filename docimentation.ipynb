{
 "cells": [
  {
   "cell_type": "markdown",
   "metadata": {},
   "source": [
    "Introduction\n",
    "This notebook demonstrates how to build a deep learning model using ResNet50, a pre-trained model, to classify faces into three different age groups:\n",
    "\n",
    "YOUNG\n",
    "MIDDLE\n",
    "OLD\n",
    "The dataset used contains images of people, and the model is trained to categorize them into one of these three age groups. The notebook covers data preprocessing, model creation, training, evaluation, and testing.\n",
    "\n",
    "Steps Overview\n",
    "Loading the Dataset: Load the face images and corresponding age group labels.\n",
    "Preprocessing: Resize the images and augment the data to improve model generalization.\n",
    "Building the Model: Use the pre-trained ResNet50 model and add custom layers on top of it.\n",
    "Training: Train the model using the preprocessed data.\n",
    "Evaluation: Evaluate the model’s performance and visualize the results.\n",
    "Testing: Use the model to predict the age group of new face images.\n",
    "1. Loading the Dataset\n",
    "We start by loading a CSV file that contains image file names and their associated age group. The age groups are mapped to numeric values:\n",
    "\n",
    "YOUNG: 0\n",
    "MIDDLE: 1\n",
    "OLD: 2"
   ]
  },
  {
   "cell_type": "code",
   "execution_count": null,
   "metadata": {},
   "outputs": [],
   "source": [
    "import pandas as pd\n",
    "\n",
    "# Load dataset\n",
    "df = pd.read_csv(r\"/kaggle/input/faces-age-detection-dataset/faces/train.csv\")\n",
    "\n",
    "# Map class labels to numeric values\n",
    "age_group = {\"YOUNG\": 0, \"MIDDLE\": 1, \"OLD\": 2}\n",
    "df['target'] = df['Class'].map(age_group)\n"
   ]
  },
  {
   "cell_type": "markdown",
   "metadata": {},
   "source": [
    "2. Preprocessing\n",
    "Image Resizing\n",
    "Each image is resized to 180x180 pixels because the model expects all images to have the same dimensions. We also normalize pixel values to the range [0, 1].\n",
    "\n",
    "Data Augmentation\n",
    "To make the model more robust, we apply data augmentation using ImageDataGenerator. This includes transformations like:\n",
    "\n",
    "Horizontal flipping (mirroring the image)\n",
    "Brightness adjustment\n",
    "Shifting the image to the left or right\n",
    "Data augmentation helps the model generalize better by making it less dependent on the exact structure of the training data."
   ]
  },
  {
   "cell_type": "code",
   "execution_count": null,
   "metadata": {},
   "outputs": [],
   "source": [
    "import os\n",
    "import cv2\n",
    "import numpy as np\n",
    "from tensorflow.keras.preprocessing.image import ImageDataGenerator\n",
    "\n",
    "# Resize images\n",
    "folder_path = '/kaggle/input/faces-age-detection-dataset/faces/Train'\n",
    "df['image'] = df['ID'].apply(lambda id: cv2.resize(plt.imread(os.path.join(folder_path, id)), (180, 180)))\n",
    "\n",
    "# Data Augmentation using ImageDataGenerator\n",
    "imggen = ImageDataGenerator(\n",
    "    rescale=1./255,  # Normalize pixel values\n",
    "    brightness_range=(0.4, 0.55),  # Adjust brightness\n",
    "    horizontal_flip=True,  # Flip images horizontally\n",
    "    width_shift_range=0.22  # Shift image left or right\n",
    ")\n"
   ]
  },
  {
   "cell_type": "markdown",
   "metadata": {},
   "source": [
    "Splitting the Data\n",
    "The dataset is split into a training set and a validation set. The training set is used to train the model, while the validation set is used to evaluate the model's performance."
   ]
  },
  {
   "cell_type": "code",
   "execution_count": null,
   "metadata": {},
   "outputs": [],
   "source": [
    "from sklearn.model_selection import train_test_split\n",
    "from sklearn.utils import shuffle\n",
    "\n",
    "# Shuffle the dataset\n",
    "augmented_images = np.stack(df['image'].values)\n",
    "augmented_labels = df['target'].values\n",
    "aug_imgs, class_list = shuffle(augmented_images, augmented_labels, random_state=42)\n",
    "\n",
    "# Split data into training and validation sets\n",
    "X_train, X_val, y_train, y_val = train_test_split(aug_imgs, class_list, test_size=0.2, random_state=42)\n"
   ]
  },
  {
   "cell_type": "markdown",
   "metadata": {},
   "source": [
    "3. Building the Model\n",
    "Using ResNet50\n",
    "ResNet50 is a pre-trained deep learning model that has been trained on millions of images. Instead of training a model from scratch, we use ResNet50's knowledge and fine-tune it for our specific task of age group classification. We freeze the layers of ResNet50 so that they are not modified during training, and add new layers on top to make predictions for our three age groups.\n",
    "\n",
    "Custom Layers\n",
    "On top of ResNet50, we add the following layers:\n",
    "\n",
    "Flatten: Converts the output of ResNet50 into a 1D array.\n",
    "Dense Layers: Fully connected layers with ReLU activation to learn complex patterns.\n",
    "Dropout: Helps prevent overfitting by randomly setting some layer outputs to zero during training.\n",
    "Softmax Layer: Produces probabilities for the three age group classes"
   ]
  },
  {
   "cell_type": "code",
   "execution_count": null,
   "metadata": {},
   "outputs": [],
   "source": []
  }
 ],
 "metadata": {
  "language_info": {
   "name": "python"
  }
 },
 "nbformat": 4,
 "nbformat_minor": 2
}
